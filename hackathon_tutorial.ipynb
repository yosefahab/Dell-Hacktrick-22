{
  "cells": [
    {
      "cell_type": "markdown",
      "metadata": {
        "id": "DCLyD1xhb9X2"
      },
      "source": [
        "# How to test and visualise your agents.\n",
        "\n",
        "---\n",
        "\n"
      ]
    },
    {
      "cell_type": "markdown",
      "metadata": {
        "id": "XCClqutxV1Xq"
      },
      "source": [
        "## Imports\n",
        "\n",
        "\n",
        "\n"
      ]
    },
    {
      "cell_type": "code",
      "execution_count": 1,
      "metadata": {
        "id": "jKsFs6UfDWJG"
      },
      "outputs": [
        {
          "name": "stdout",
          "output_type": "stream",
          "text": [
            "pygame 2.1.2 (SDL 2.0.18, Python 3.9.2)\n",
            "Hello from the pygame community. https://www.pygame.org/contribute.html\n"
          ]
        },
        {
          "name": "stderr",
          "output_type": "stream",
          "text": [
            "C:\\Users\\Youssef\\AppData\\Local\\Programs\\Python\\Python39\\lib\\site-packages\\gym\\envs\\registration.py:216: UserWarning: \u001b[33mWARN: Overriding environment Hacktrick-v0\u001b[0m\n",
            "  logger.warn(\"Overriding environment {}\".format(id))\n"
          ]
        }
      ],
      "source": [
        "from hacktrick_ai.src.hacktrick_ai_py.agents.benchmarking import AgentEvaluator, LayoutGenerator\n",
        "from hacktrick_ai.src.hacktrick_ai_py.visualization.state_visualizer import StateVisualizer\n",
        "from hacktrick_ai.src.hacktrick_ai_py.agents.agent import AgentPair, StayAgent\n",
        "from hacktrick_agent import HacktrickAgent"
      ]
    },
    {
      "cell_type": "markdown",
      "metadata": {
        "id": "IM5MAxKLWEDa"
      },
      "source": [
        "## How to Run\n",
        "\n",
        "1. Set game mode to either single or collaborative.\n",
        "2. Set timesteps (We will be evaluating on 1200 timesteps).\n",
        "3. Set layout name.\n",
        "4. Create a HacktrickAgent instance, it will automatically include your algorith or RL agent if used from the `hacktrick_agent.py` file.\n",
        "5. Call run_agent() and pass the required parameters.\n",
        "6. run_agent() will return the trajectories of the played game.\n",
        "7. Call visualize() and pass the trajectories returned from running the agent to graphically view the game.\n",
        "\n",
        "(basically just run the notebook ;))"
      ]
    },
    {
      "cell_type": "code",
      "execution_count": 2,
      "metadata": {
        "id": "6bJJmpl_EsZU"
      },
      "outputs": [],
      "source": [
        "def run_agent(mode, timesteps, layout_name, hacktrick_agent):\n",
        "  hacktrick_agent.set_mode(mode)\n",
        "  if mode == 'collaborative':\n",
        "    agent0 = hacktrick_agent.agent0\n",
        "    agent1 = hacktrick_agent.agent1\n",
        "    agent = AgentPair(agent0, agent1)\n",
        "  elif mode == 'single':\n",
        "    agent0 = hacktrick_agent.agent0\n",
        "    agent1 = StayAgent()\n",
        "    agent = AgentPair(agent0, agent1)\n",
        "  mdp_gen_params = {\"layout_name\": layout_name}\n",
        "  mdp_fn = LayoutGenerator.mdp_gen_fn_from_dict(mdp_gen_params)\n",
        "  env_params = {\"horizon\": timesteps}\n",
        "  agent_eval = AgentEvaluator(env_params=env_params, mdp_fn=mdp_fn)\n",
        "  trajectories = agent_eval.evaluate_agent_pair(agent, num_games=1)\n",
        "  return trajectories"
      ]
    },
    {
      "cell_type": "code",
      "execution_count": 3,
      "metadata": {
        "id": "WGYCS4fsQgk4"
      },
      "outputs": [
        {
          "name": "stderr",
          "output_type": "stream",
          "text": [
            "  0%|          | 0/1 [00:00<?, ?it/s]"
          ]
        },
        {
          "name": "stdout",
          "output_type": "stream",
          "text": [
            "there is no path.\n",
            "there is no path.\n",
            "there is no path.\n",
            "there is no path.\n",
            "there is no path.\n",
            "there is no path.\n",
            "there is no path.\n",
            "there is no path.\n",
            "there is no path.\n"
          ]
        },
        {
          "name": "stderr",
          "output_type": "stream",
          "text": [
            "Avg rew: 1010.00 (std: 0.00, se: 0.00); avg len: 1200.00; :   0%|          | 0/1 [00:00<?, ?it/s]"
          ]
        },
        {
          "name": "stdout",
          "output_type": "stream",
          "text": [
            "there is no path.\n",
            "there is no path.\n",
            "there is no path.\n",
            "there is no path.\n",
            "there is no path.\n"
          ]
        },
        {
          "name": "stderr",
          "output_type": "stream",
          "text": [
            "Avg rew: 1010.00 (std: 0.00, se: 0.00); avg len: 1200.00; : 100%|██████████| 1/1 [00:00<00:00,  1.97it/s]"
          ]
        },
        {
          "name": "stdout",
          "output_type": "stream",
          "text": [
            "Skipping trajectory consistency checking because MDP was recognized as variable. Trajectory consistency checking is not yet supported for variable MDPs.\n"
          ]
        },
        {
          "name": "stderr",
          "output_type": "stream",
          "text": [
            "\n"
          ]
        }
      ],
      "source": [
        "# Parameters to be changed\n",
        "# \"leaderboard_single\",\n",
        "# \"leaderboard_collaborative\",\n",
        "# \"round_of_16_single\",\n",
        "# \"round_of_16_collaborative\",\n",
        "# \"quarter_final_single\",\n",
        "# \"quarter_final_collaborative\",\n",
        "# \"semi_final_single\",\n",
        "# \"semi_final_collaborative\",\n",
        "# \"final_single\",\n",
        "# \"final_collaborative\"\n",
        "#collaborative\n",
        "mode = 'collaborative'\n",
        "# mode = 'single'\n",
        "timesteps = 1200\n",
        "layout_name = 'final_collaborative'\n",
        "agent = HacktrickAgent()\n",
        "trajectories = run_agent(mode, timesteps, layout_name, agent)"
      ]
    },
    {
      "cell_type": "code",
      "execution_count": 4,
      "metadata": {
        "id": "CfmIXTEYJc_M"
      },
      "outputs": [],
      "source": [
        "def visualize(trajectories):\n",
        "  img_dir_path = StateVisualizer().display_rendered_trajectory(trajectories, trajectory_idx=0, ipython_display=True)"
      ]
    },
    {
      "cell_type": "code",
      "execution_count": 5,
      "metadata": {
        "id": "UFaj9yXPVfuN"
      },
      "outputs": [
        {
          "data": {
            "application/vnd.jupyter.widget-view+json": {
              "model_id": "054c8b3de6f84f06aea9ec4701f88f7f",
              "version_major": 2,
              "version_minor": 0
            },
            "text/plain": [
              "interactive(children=(IntSlider(value=0, description='timestep', max=1199), Output()), _dom_classes=('widget-i…"
            ]
          },
          "metadata": {},
          "output_type": "display_data"
        }
      ],
      "source": [
        "visualize(trajectories)"
      ]
    }
  ],
  "metadata": {
    "colab": {
      "collapsed_sections": [],
      "name": "hackathon-tutorial.ipynb",
      "provenance": []
    },
    "kernelspec": {
      "display_name": "Python 3",
      "name": "python3"
    },
    "language_info": {
      "codemirror_mode": {
        "name": "ipython",
        "version": 3
      },
      "file_extension": ".py",
      "mimetype": "text/x-python",
      "name": "python",
      "nbconvert_exporter": "python",
      "pygments_lexer": "ipython3",
      "version": "3.9.2"
    }
  },
  "nbformat": 4,
  "nbformat_minor": 0
}
